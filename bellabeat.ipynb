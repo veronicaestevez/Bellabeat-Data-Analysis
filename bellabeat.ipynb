{
 "cells": [
  {
   "cell_type": "code",
   "execution_count": 1,
   "id": "ca720b9c",
   "metadata": {
    "_cell_guid": "b1076dfc-b9ad-4769-8c92-a6c4dae69d19",
    "_uuid": "8f2839f25d086af736a60e9eeb907d3b93b6e0e5",
    "execution": {
     "iopub.execute_input": "2024-07-12T02:31:43.000181Z",
     "iopub.status.busy": "2024-07-12T02:31:42.999054Z",
     "iopub.status.idle": "2024-07-12T02:31:44.188153Z",
     "shell.execute_reply": "2024-07-12T02:31:44.186812Z"
    },
    "papermill": {
     "duration": 1.207587,
     "end_time": "2024-07-12T02:31:44.191684",
     "exception": false,
     "start_time": "2024-07-12T02:31:42.984097",
     "status": "completed"
    },
    "tags": []
   },
   "outputs": [
    {
     "name": "stdout",
     "output_type": "stream",
     "text": [
      "/kaggle/input/fitbit/mturkfitbit_export_3.12.16-4.11.16/Fitabase Data 3.12.16-4.11.16/minuteCaloriesNarrow_merged.csv\n",
      "/kaggle/input/fitbit/mturkfitbit_export_3.12.16-4.11.16/Fitabase Data 3.12.16-4.11.16/weightLogInfo_merged.csv\n",
      "/kaggle/input/fitbit/mturkfitbit_export_3.12.16-4.11.16/Fitabase Data 3.12.16-4.11.16/minuteMETsNarrow_merged.csv\n",
      "/kaggle/input/fitbit/mturkfitbit_export_3.12.16-4.11.16/Fitabase Data 3.12.16-4.11.16/hourlyCalories_merged.csv\n",
      "/kaggle/input/fitbit/mturkfitbit_export_3.12.16-4.11.16/Fitabase Data 3.12.16-4.11.16/heartrate_seconds_merged.csv\n",
      "/kaggle/input/fitbit/mturkfitbit_export_3.12.16-4.11.16/Fitabase Data 3.12.16-4.11.16/minuteSleep_merged.csv\n",
      "/kaggle/input/fitbit/mturkfitbit_export_3.12.16-4.11.16/Fitabase Data 3.12.16-4.11.16/hourlyIntensities_merged.csv\n",
      "/kaggle/input/fitbit/mturkfitbit_export_3.12.16-4.11.16/Fitabase Data 3.12.16-4.11.16/hourlySteps_merged.csv\n",
      "/kaggle/input/fitbit/mturkfitbit_export_3.12.16-4.11.16/Fitabase Data 3.12.16-4.11.16/minuteStepsNarrow_merged.csv\n",
      "/kaggle/input/fitbit/mturkfitbit_export_3.12.16-4.11.16/Fitabase Data 3.12.16-4.11.16/minuteIntensitiesNarrow_merged.csv\n",
      "/kaggle/input/fitbit/mturkfitbit_export_3.12.16-4.11.16/Fitabase Data 3.12.16-4.11.16/dailyActivity_merged.csv\n",
      "/kaggle/input/fitbit/mturkfitbit_export_4.12.16-5.12.16/Fitabase Data 4.12.16-5.12.16/minuteCaloriesNarrow_merged.csv\n",
      "/kaggle/input/fitbit/mturkfitbit_export_4.12.16-5.12.16/Fitabase Data 4.12.16-5.12.16/weightLogInfo_merged.csv\n",
      "/kaggle/input/fitbit/mturkfitbit_export_4.12.16-5.12.16/Fitabase Data 4.12.16-5.12.16/sleepDay_merged.csv\n",
      "/kaggle/input/fitbit/mturkfitbit_export_4.12.16-5.12.16/Fitabase Data 4.12.16-5.12.16/dailyIntensities_merged.csv\n",
      "/kaggle/input/fitbit/mturkfitbit_export_4.12.16-5.12.16/Fitabase Data 4.12.16-5.12.16/minuteIntensitiesWide_merged.csv\n",
      "/kaggle/input/fitbit/mturkfitbit_export_4.12.16-5.12.16/Fitabase Data 4.12.16-5.12.16/minuteMETsNarrow_merged.csv\n",
      "/kaggle/input/fitbit/mturkfitbit_export_4.12.16-5.12.16/Fitabase Data 4.12.16-5.12.16/dailyCalories_merged.csv\n",
      "/kaggle/input/fitbit/mturkfitbit_export_4.12.16-5.12.16/Fitabase Data 4.12.16-5.12.16/hourlyCalories_merged.csv\n",
      "/kaggle/input/fitbit/mturkfitbit_export_4.12.16-5.12.16/Fitabase Data 4.12.16-5.12.16/heartrate_seconds_merged.csv\n",
      "/kaggle/input/fitbit/mturkfitbit_export_4.12.16-5.12.16/Fitabase Data 4.12.16-5.12.16/minuteSleep_merged.csv\n",
      "/kaggle/input/fitbit/mturkfitbit_export_4.12.16-5.12.16/Fitabase Data 4.12.16-5.12.16/hourlyIntensities_merged.csv\n",
      "/kaggle/input/fitbit/mturkfitbit_export_4.12.16-5.12.16/Fitabase Data 4.12.16-5.12.16/hourlySteps_merged.csv\n",
      "/kaggle/input/fitbit/mturkfitbit_export_4.12.16-5.12.16/Fitabase Data 4.12.16-5.12.16/minuteStepsNarrow_merged.csv\n",
      "/kaggle/input/fitbit/mturkfitbit_export_4.12.16-5.12.16/Fitabase Data 4.12.16-5.12.16/dailySteps_merged.csv\n",
      "/kaggle/input/fitbit/mturkfitbit_export_4.12.16-5.12.16/Fitabase Data 4.12.16-5.12.16/minuteStepsWide_merged.csv\n",
      "/kaggle/input/fitbit/mturkfitbit_export_4.12.16-5.12.16/Fitabase Data 4.12.16-5.12.16/minuteIntensitiesNarrow_merged.csv\n",
      "/kaggle/input/fitbit/mturkfitbit_export_4.12.16-5.12.16/Fitabase Data 4.12.16-5.12.16/minuteCaloriesWide_merged.csv\n",
      "/kaggle/input/fitbit/mturkfitbit_export_4.12.16-5.12.16/Fitabase Data 4.12.16-5.12.16/dailyActivity_merged.csv\n"
     ]
    }
   ],
   "source": [
    "# This Python 3 environment comes with many helpful analytics libraries installed\n",
    "# It is defined by the kaggle/python Docker image: https://github.com/kaggle/docker-python\n",
    "# For example, here's several helpful packages to load\n",
    "\n",
    "import numpy as np # linear algebra\n",
    "import pandas as pd # data processing, CSV file I/O (e.g. pd.read_csv)\n",
    "\n",
    "# Input data files are available in the read-only \"../input/\" directory\n",
    "# For example, running this (by clicking run or pressing Shift+Enter) will list all files under the input directory\n",
    "\n",
    "import os\n",
    "for dirname, _, filenames in os.walk('/kaggle/input'):\n",
    "    for filename in filenames:\n",
    "        print(os.path.join(dirname, filename))\n",
    "\n",
    "# You can write up to 20GB to the current directory (/kaggle/working/) that gets preserved as output when you create a version using \"Save & Run All\" \n",
    "# You can also write temporary files to /kaggle/temp/, but they won't be saved outside of the current session"
   ]
  },
  {
   "cell_type": "code",
   "execution_count": 2,
   "id": "c8997b73",
   "metadata": {
    "execution": {
     "iopub.execute_input": "2024-07-12T02:31:44.220870Z",
     "iopub.status.busy": "2024-07-12T02:31:44.220315Z",
     "iopub.status.idle": "2024-07-12T02:31:46.065816Z",
     "shell.execute_reply": "2024-07-12T02:31:46.064495Z"
    },
    "papermill": {
     "duration": 1.864176,
     "end_time": "2024-07-12T02:31:46.068949",
     "exception": false,
     "start_time": "2024-07-12T02:31:44.204773",
     "status": "completed"
    },
    "tags": []
   },
   "outputs": [],
   "source": [
    "import numpy as np\n",
    "import pandas as pd\n",
    "import matplotlib.pyplot as plt\n",
    "import seaborn as sns\n",
    "plt.style.use('ggplot')\n",
    "import datetime as dt\n",
    "\n",
    "#pd.set_option('max_column')"
   ]
  },
  {
   "cell_type": "code",
   "execution_count": 3,
   "id": "1ce1919a",
   "metadata": {
    "execution": {
     "iopub.execute_input": "2024-07-12T02:31:46.096880Z",
     "iopub.status.busy": "2024-07-12T02:31:46.096456Z",
     "iopub.status.idle": "2024-07-12T02:31:46.125909Z",
     "shell.execute_reply": "2024-07-12T02:31:46.124676Z"
    },
    "papermill": {
     "duration": 0.047185,
     "end_time": "2024-07-12T02:31:46.129244",
     "exception": false,
     "start_time": "2024-07-12T02:31:46.082059",
     "status": "completed"
    },
    "tags": []
   },
   "outputs": [],
   "source": [
    "# Prepare the data\n",
    "df = pd.read_csv('/kaggle/input/fitbit/mturkfitbit_export_4.12.16-5.12.16/Fitabase Data 4.12.16-5.12.16/dailyActivity_merged.csv')"
   ]
  },
  {
   "cell_type": "code",
   "execution_count": 4,
   "id": "9d7d0b69",
   "metadata": {
    "execution": {
     "iopub.execute_input": "2024-07-12T02:31:46.156531Z",
     "iopub.status.busy": "2024-07-12T02:31:46.156095Z",
     "iopub.status.idle": "2024-07-12T02:31:46.164725Z",
     "shell.execute_reply": "2024-07-12T02:31:46.163435Z"
    },
    "papermill": {
     "duration": 0.025344,
     "end_time": "2024-07-12T02:31:46.167421",
     "exception": false,
     "start_time": "2024-07-12T02:31:46.142077",
     "status": "completed"
    },
    "tags": []
   },
   "outputs": [
    {
     "data": {
      "text/plain": [
       "(940, 15)"
      ]
     },
     "execution_count": 4,
     "metadata": {},
     "output_type": "execute_result"
    }
   ],
   "source": [
    "df.shape"
   ]
  },
  {
   "cell_type": "code",
   "execution_count": 5,
   "id": "cfb85435",
   "metadata": {
    "execution": {
     "iopub.execute_input": "2024-07-12T02:31:46.195832Z",
     "iopub.status.busy": "2024-07-12T02:31:46.195429Z",
     "iopub.status.idle": "2024-07-12T02:31:46.205677Z",
     "shell.execute_reply": "2024-07-12T02:31:46.204392Z"
    },
    "papermill": {
     "duration": 0.027169,
     "end_time": "2024-07-12T02:31:46.208297",
     "exception": false,
     "start_time": "2024-07-12T02:31:46.181128",
     "status": "completed"
    },
    "tags": []
   },
   "outputs": [
    {
     "data": {
      "text/plain": [
       "Index(['Id', 'ActivityDate', 'TotalSteps', 'TotalDistance', 'TrackerDistance',\n",
       "       'LoggedActivitiesDistance', 'VeryActiveDistance',\n",
       "       'ModeratelyActiveDistance', 'LightActiveDistance',\n",
       "       'SedentaryActiveDistance', 'VeryActiveMinutes', 'FairlyActiveMinutes',\n",
       "       'LightlyActiveMinutes', 'SedentaryMinutes', 'Calories'],\n",
       "      dtype='object')"
      ]
     },
     "execution_count": 5,
     "metadata": {},
     "output_type": "execute_result"
    }
   ],
   "source": [
    "df.columns"
   ]
  },
  {
   "cell_type": "code",
   "execution_count": 6,
   "id": "0efe46ac",
   "metadata": {
    "execution": {
     "iopub.execute_input": "2024-07-12T02:31:46.238105Z",
     "iopub.status.busy": "2024-07-12T02:31:46.237680Z",
     "iopub.status.idle": "2024-07-12T02:31:46.279156Z",
     "shell.execute_reply": "2024-07-12T02:31:46.278027Z"
    },
    "papermill": {
     "duration": 0.060098,
     "end_time": "2024-07-12T02:31:46.281862",
     "exception": false,
     "start_time": "2024-07-12T02:31:46.221764",
     "status": "completed"
    },
    "tags": []
   },
   "outputs": [
    {
     "data": {
      "text/html": [
       "<div>\n",
       "<style scoped>\n",
       "    .dataframe tbody tr th:only-of-type {\n",
       "        vertical-align: middle;\n",
       "    }\n",
       "\n",
       "    .dataframe tbody tr th {\n",
       "        vertical-align: top;\n",
       "    }\n",
       "\n",
       "    .dataframe thead th {\n",
       "        text-align: right;\n",
       "    }\n",
       "</style>\n",
       "<table border=\"1\" class=\"dataframe\">\n",
       "  <thead>\n",
       "    <tr style=\"text-align: right;\">\n",
       "      <th></th>\n",
       "      <th>Id</th>\n",
       "      <th>ActivityDate</th>\n",
       "      <th>TotalSteps</th>\n",
       "      <th>TotalDistance</th>\n",
       "      <th>TrackerDistance</th>\n",
       "      <th>LoggedActivitiesDistance</th>\n",
       "      <th>VeryActiveDistance</th>\n",
       "      <th>ModeratelyActiveDistance</th>\n",
       "      <th>LightActiveDistance</th>\n",
       "      <th>SedentaryActiveDistance</th>\n",
       "      <th>VeryActiveMinutes</th>\n",
       "      <th>FairlyActiveMinutes</th>\n",
       "      <th>LightlyActiveMinutes</th>\n",
       "      <th>SedentaryMinutes</th>\n",
       "      <th>Calories</th>\n",
       "    </tr>\n",
       "  </thead>\n",
       "  <tbody>\n",
       "    <tr>\n",
       "      <th>0</th>\n",
       "      <td>1503960366</td>\n",
       "      <td>4/12/2016</td>\n",
       "      <td>13162</td>\n",
       "      <td>8.50</td>\n",
       "      <td>8.50</td>\n",
       "      <td>0.0</td>\n",
       "      <td>1.88</td>\n",
       "      <td>0.55</td>\n",
       "      <td>6.06</td>\n",
       "      <td>0.0</td>\n",
       "      <td>25</td>\n",
       "      <td>13</td>\n",
       "      <td>328</td>\n",
       "      <td>728</td>\n",
       "      <td>1985</td>\n",
       "    </tr>\n",
       "    <tr>\n",
       "      <th>1</th>\n",
       "      <td>1503960366</td>\n",
       "      <td>4/13/2016</td>\n",
       "      <td>10735</td>\n",
       "      <td>6.97</td>\n",
       "      <td>6.97</td>\n",
       "      <td>0.0</td>\n",
       "      <td>1.57</td>\n",
       "      <td>0.69</td>\n",
       "      <td>4.71</td>\n",
       "      <td>0.0</td>\n",
       "      <td>21</td>\n",
       "      <td>19</td>\n",
       "      <td>217</td>\n",
       "      <td>776</td>\n",
       "      <td>1797</td>\n",
       "    </tr>\n",
       "    <tr>\n",
       "      <th>2</th>\n",
       "      <td>1503960366</td>\n",
       "      <td>4/14/2016</td>\n",
       "      <td>10460</td>\n",
       "      <td>6.74</td>\n",
       "      <td>6.74</td>\n",
       "      <td>0.0</td>\n",
       "      <td>2.44</td>\n",
       "      <td>0.40</td>\n",
       "      <td>3.91</td>\n",
       "      <td>0.0</td>\n",
       "      <td>30</td>\n",
       "      <td>11</td>\n",
       "      <td>181</td>\n",
       "      <td>1218</td>\n",
       "      <td>1776</td>\n",
       "    </tr>\n",
       "    <tr>\n",
       "      <th>3</th>\n",
       "      <td>1503960366</td>\n",
       "      <td>4/15/2016</td>\n",
       "      <td>9762</td>\n",
       "      <td>6.28</td>\n",
       "      <td>6.28</td>\n",
       "      <td>0.0</td>\n",
       "      <td>2.14</td>\n",
       "      <td>1.26</td>\n",
       "      <td>2.83</td>\n",
       "      <td>0.0</td>\n",
       "      <td>29</td>\n",
       "      <td>34</td>\n",
       "      <td>209</td>\n",
       "      <td>726</td>\n",
       "      <td>1745</td>\n",
       "    </tr>\n",
       "    <tr>\n",
       "      <th>4</th>\n",
       "      <td>1503960366</td>\n",
       "      <td>4/16/2016</td>\n",
       "      <td>12669</td>\n",
       "      <td>8.16</td>\n",
       "      <td>8.16</td>\n",
       "      <td>0.0</td>\n",
       "      <td>2.71</td>\n",
       "      <td>0.41</td>\n",
       "      <td>5.04</td>\n",
       "      <td>0.0</td>\n",
       "      <td>36</td>\n",
       "      <td>10</td>\n",
       "      <td>221</td>\n",
       "      <td>773</td>\n",
       "      <td>1863</td>\n",
       "    </tr>\n",
       "    <tr>\n",
       "      <th>5</th>\n",
       "      <td>1503960366</td>\n",
       "      <td>4/17/2016</td>\n",
       "      <td>9705</td>\n",
       "      <td>6.48</td>\n",
       "      <td>6.48</td>\n",
       "      <td>0.0</td>\n",
       "      <td>3.19</td>\n",
       "      <td>0.78</td>\n",
       "      <td>2.51</td>\n",
       "      <td>0.0</td>\n",
       "      <td>38</td>\n",
       "      <td>20</td>\n",
       "      <td>164</td>\n",
       "      <td>539</td>\n",
       "      <td>1728</td>\n",
       "    </tr>\n",
       "    <tr>\n",
       "      <th>6</th>\n",
       "      <td>1503960366</td>\n",
       "      <td>4/18/2016</td>\n",
       "      <td>13019</td>\n",
       "      <td>8.59</td>\n",
       "      <td>8.59</td>\n",
       "      <td>0.0</td>\n",
       "      <td>3.25</td>\n",
       "      <td>0.64</td>\n",
       "      <td>4.71</td>\n",
       "      <td>0.0</td>\n",
       "      <td>42</td>\n",
       "      <td>16</td>\n",
       "      <td>233</td>\n",
       "      <td>1149</td>\n",
       "      <td>1921</td>\n",
       "    </tr>\n",
       "    <tr>\n",
       "      <th>7</th>\n",
       "      <td>1503960366</td>\n",
       "      <td>4/19/2016</td>\n",
       "      <td>15506</td>\n",
       "      <td>9.88</td>\n",
       "      <td>9.88</td>\n",
       "      <td>0.0</td>\n",
       "      <td>3.53</td>\n",
       "      <td>1.32</td>\n",
       "      <td>5.03</td>\n",
       "      <td>0.0</td>\n",
       "      <td>50</td>\n",
       "      <td>31</td>\n",
       "      <td>264</td>\n",
       "      <td>775</td>\n",
       "      <td>2035</td>\n",
       "    </tr>\n",
       "    <tr>\n",
       "      <th>8</th>\n",
       "      <td>1503960366</td>\n",
       "      <td>4/20/2016</td>\n",
       "      <td>10544</td>\n",
       "      <td>6.68</td>\n",
       "      <td>6.68</td>\n",
       "      <td>0.0</td>\n",
       "      <td>1.96</td>\n",
       "      <td>0.48</td>\n",
       "      <td>4.24</td>\n",
       "      <td>0.0</td>\n",
       "      <td>28</td>\n",
       "      <td>12</td>\n",
       "      <td>205</td>\n",
       "      <td>818</td>\n",
       "      <td>1786</td>\n",
       "    </tr>\n",
       "    <tr>\n",
       "      <th>9</th>\n",
       "      <td>1503960366</td>\n",
       "      <td>4/21/2016</td>\n",
       "      <td>9819</td>\n",
       "      <td>6.34</td>\n",
       "      <td>6.34</td>\n",
       "      <td>0.0</td>\n",
       "      <td>1.34</td>\n",
       "      <td>0.35</td>\n",
       "      <td>4.65</td>\n",
       "      <td>0.0</td>\n",
       "      <td>19</td>\n",
       "      <td>8</td>\n",
       "      <td>211</td>\n",
       "      <td>838</td>\n",
       "      <td>1775</td>\n",
       "    </tr>\n",
       "  </tbody>\n",
       "</table>\n",
       "</div>"
      ],
      "text/plain": [
       "           Id ActivityDate  TotalSteps  TotalDistance  TrackerDistance  \\\n",
       "0  1503960366    4/12/2016       13162           8.50             8.50   \n",
       "1  1503960366    4/13/2016       10735           6.97             6.97   \n",
       "2  1503960366    4/14/2016       10460           6.74             6.74   \n",
       "3  1503960366    4/15/2016        9762           6.28             6.28   \n",
       "4  1503960366    4/16/2016       12669           8.16             8.16   \n",
       "5  1503960366    4/17/2016        9705           6.48             6.48   \n",
       "6  1503960366    4/18/2016       13019           8.59             8.59   \n",
       "7  1503960366    4/19/2016       15506           9.88             9.88   \n",
       "8  1503960366    4/20/2016       10544           6.68             6.68   \n",
       "9  1503960366    4/21/2016        9819           6.34             6.34   \n",
       "\n",
       "   LoggedActivitiesDistance  VeryActiveDistance  ModeratelyActiveDistance  \\\n",
       "0                       0.0                1.88                      0.55   \n",
       "1                       0.0                1.57                      0.69   \n",
       "2                       0.0                2.44                      0.40   \n",
       "3                       0.0                2.14                      1.26   \n",
       "4                       0.0                2.71                      0.41   \n",
       "5                       0.0                3.19                      0.78   \n",
       "6                       0.0                3.25                      0.64   \n",
       "7                       0.0                3.53                      1.32   \n",
       "8                       0.0                1.96                      0.48   \n",
       "9                       0.0                1.34                      0.35   \n",
       "\n",
       "   LightActiveDistance  SedentaryActiveDistance  VeryActiveMinutes  \\\n",
       "0                 6.06                      0.0                 25   \n",
       "1                 4.71                      0.0                 21   \n",
       "2                 3.91                      0.0                 30   \n",
       "3                 2.83                      0.0                 29   \n",
       "4                 5.04                      0.0                 36   \n",
       "5                 2.51                      0.0                 38   \n",
       "6                 4.71                      0.0                 42   \n",
       "7                 5.03                      0.0                 50   \n",
       "8                 4.24                      0.0                 28   \n",
       "9                 4.65                      0.0                 19   \n",
       "\n",
       "   FairlyActiveMinutes  LightlyActiveMinutes  SedentaryMinutes  Calories  \n",
       "0                   13                   328               728      1985  \n",
       "1                   19                   217               776      1797  \n",
       "2                   11                   181              1218      1776  \n",
       "3                   34                   209               726      1745  \n",
       "4                   10                   221               773      1863  \n",
       "5                   20                   164               539      1728  \n",
       "6                   16                   233              1149      1921  \n",
       "7                   31                   264               775      2035  \n",
       "8                   12                   205               818      1786  \n",
       "9                    8                   211               838      1775  "
      ]
     },
     "execution_count": 6,
     "metadata": {},
     "output_type": "execute_result"
    }
   ],
   "source": [
    "df.head(10)"
   ]
  },
  {
   "cell_type": "code",
   "execution_count": 7,
   "id": "fe03859c",
   "metadata": {
    "execution": {
     "iopub.execute_input": "2024-07-12T02:31:46.310856Z",
     "iopub.status.busy": "2024-07-12T02:31:46.310422Z",
     "iopub.status.idle": "2024-07-12T02:31:46.319878Z",
     "shell.execute_reply": "2024-07-12T02:31:46.318620Z"
    },
    "papermill": {
     "duration": 0.027174,
     "end_time": "2024-07-12T02:31:46.322606",
     "exception": false,
     "start_time": "2024-07-12T02:31:46.295432",
     "status": "completed"
    },
    "tags": []
   },
   "outputs": [
    {
     "data": {
      "text/plain": [
       "Id                            int64\n",
       "ActivityDate                 object\n",
       "TotalSteps                    int64\n",
       "TotalDistance               float64\n",
       "TrackerDistance             float64\n",
       "LoggedActivitiesDistance    float64\n",
       "VeryActiveDistance          float64\n",
       "ModeratelyActiveDistance    float64\n",
       "LightActiveDistance         float64\n",
       "SedentaryActiveDistance     float64\n",
       "VeryActiveMinutes             int64\n",
       "FairlyActiveMinutes           int64\n",
       "LightlyActiveMinutes          int64\n",
       "SedentaryMinutes              int64\n",
       "Calories                      int64\n",
       "dtype: object"
      ]
     },
     "execution_count": 7,
     "metadata": {},
     "output_type": "execute_result"
    }
   ],
   "source": [
    "df.dtypes"
   ]
  },
  {
   "cell_type": "code",
   "execution_count": 8,
   "id": "3eec9953",
   "metadata": {
    "execution": {
     "iopub.execute_input": "2024-07-12T02:31:46.353818Z",
     "iopub.status.busy": "2024-07-12T02:31:46.353384Z",
     "iopub.status.idle": "2024-07-12T02:31:46.378217Z",
     "shell.execute_reply": "2024-07-12T02:31:46.377030Z"
    },
    "papermill": {
     "duration": 0.042813,
     "end_time": "2024-07-12T02:31:46.381095",
     "exception": false,
     "start_time": "2024-07-12T02:31:46.338282",
     "status": "completed"
    },
    "tags": []
   },
   "outputs": [
    {
     "data": {
      "text/plain": [
       "Id                                  object\n",
       "ActivityDate                datetime64[ns]\n",
       "TotalSteps                           int64\n",
       "TotalDistance                      float64\n",
       "TrackerDistance                    float64\n",
       "LoggedActivitiesDistance           float64\n",
       "VeryActiveDistance                 float64\n",
       "ModeratelyActiveDistance           float64\n",
       "LightActiveDistance                float64\n",
       "SedentaryActiveDistance            float64\n",
       "VeryActiveMinutes                    int64\n",
       "FairlyActiveMinutes                  int64\n",
       "LightlyActiveMinutes                 int64\n",
       "SedentaryMinutes                     int64\n",
       "Calories                             int64\n",
       "dtype: object"
      ]
     },
     "execution_count": 8,
     "metadata": {},
     "output_type": "execute_result"
    }
   ],
   "source": [
    "# Clean the data\n",
    "# Id was initially an integer and I converted it to a string. ActivityDate was a string and I set it to the proper datetime format.\n",
    "\n",
    "df['Id'] = df['Id'].astype(str)\n",
    "df['ActivityDate'] = pd.to_datetime(df['ActivityDate'], format='%m/%d/%Y')\n",
    "df.dtypes"
   ]
  },
  {
   "cell_type": "code",
   "execution_count": 9,
   "id": "6bf6afbe",
   "metadata": {
    "execution": {
     "iopub.execute_input": "2024-07-12T02:31:46.411892Z",
     "iopub.status.busy": "2024-07-12T02:31:46.411481Z",
     "iopub.status.idle": "2024-07-12T02:31:46.418988Z",
     "shell.execute_reply": "2024-07-12T02:31:46.417649Z"
    },
    "papermill": {
     "duration": 0.025528,
     "end_time": "2024-07-12T02:31:46.421769",
     "exception": false,
     "start_time": "2024-07-12T02:31:46.396241",
     "status": "completed"
    },
    "tags": []
   },
   "outputs": [],
   "source": [
    "#TotalDistance and TrackerDistance have the same exact values. \n",
    "#LoggedActivitiesDistance is always 0 (from just skimming throught the data)\n",
    "#if TrackerDistance subtracted by TotalDistance equals 0, then I could assume LoggedActivitiesDistance is\n",
    "#just the subtraction of said columns.\n",
    "\n",
    "df['distance_diff'] = df['TotalDistance'] - df['TrackerDistance']"
   ]
  },
  {
   "cell_type": "code",
   "execution_count": 10,
   "id": "ce5f83a5",
   "metadata": {
    "execution": {
     "iopub.execute_input": "2024-07-12T02:31:46.452730Z",
     "iopub.status.busy": "2024-07-12T02:31:46.452323Z",
     "iopub.status.idle": "2024-07-12T02:31:46.468584Z",
     "shell.execute_reply": "2024-07-12T02:31:46.467423Z"
    },
    "papermill": {
     "duration": 0.034698,
     "end_time": "2024-07-12T02:31:46.471241",
     "exception": false,
     "start_time": "2024-07-12T02:31:46.436543",
     "status": "completed"
    },
    "tags": []
   },
   "outputs": [
    {
     "data": {
      "text/plain": [
       "distance_diff\n",
       "0.000000    925\n",
       "1.830000      1\n",
       "0.190001      1\n",
       "0.040000      1\n",
       "0.810000      1\n",
       "1.049999      1\n",
       "0.760000      1\n",
       "1.070000      1\n",
       "0.980000      1\n",
       "0.900001      1\n",
       "1.140000      1\n",
       "1.160000      1\n",
       "0.880000      1\n",
       "0.460000      1\n",
       "1.160000      1\n",
       "1.060000      1\n",
       "Name: count, dtype: int64"
      ]
     },
     "execution_count": 10,
     "metadata": {},
     "output_type": "execute_result"
    }
   ],
   "source": [
    "df['distance_diff'].value_counts()"
   ]
  },
  {
   "cell_type": "code",
   "execution_count": 11,
   "id": "bbb31ce5",
   "metadata": {
    "execution": {
     "iopub.execute_input": "2024-07-12T02:31:46.501001Z",
     "iopub.status.busy": "2024-07-12T02:31:46.500544Z",
     "iopub.status.idle": "2024-07-12T02:31:46.544199Z",
     "shell.execute_reply": "2024-07-12T02:31:46.542877Z"
    },
    "papermill": {
     "duration": 0.061638,
     "end_time": "2024-07-12T02:31:46.546901",
     "exception": false,
     "start_time": "2024-07-12T02:31:46.485263",
     "status": "completed"
    },
    "tags": []
   },
   "outputs": [
    {
     "data": {
      "text/html": [
       "<div>\n",
       "<style scoped>\n",
       "    .dataframe tbody tr th:only-of-type {\n",
       "        vertical-align: middle;\n",
       "    }\n",
       "\n",
       "    .dataframe tbody tr th {\n",
       "        vertical-align: top;\n",
       "    }\n",
       "\n",
       "    .dataframe thead th {\n",
       "        text-align: right;\n",
       "    }\n",
       "</style>\n",
       "<table border=\"1\" class=\"dataframe\">\n",
       "  <thead>\n",
       "    <tr style=\"text-align: right;\">\n",
       "      <th></th>\n",
       "      <th>Id</th>\n",
       "      <th>ActivityDate</th>\n",
       "      <th>TotalSteps</th>\n",
       "      <th>TotalDistance</th>\n",
       "      <th>TrackerDistance</th>\n",
       "      <th>LoggedActivitiesDistance</th>\n",
       "      <th>VeryActiveDistance</th>\n",
       "      <th>ModeratelyActiveDistance</th>\n",
       "      <th>LightActiveDistance</th>\n",
       "      <th>SedentaryActiveDistance</th>\n",
       "      <th>VeryActiveMinutes</th>\n",
       "      <th>FairlyActiveMinutes</th>\n",
       "      <th>LightlyActiveMinutes</th>\n",
       "      <th>SedentaryMinutes</th>\n",
       "      <th>Calories</th>\n",
       "      <th>distance_diff</th>\n",
       "    </tr>\n",
       "  </thead>\n",
       "  <tbody>\n",
       "    <tr>\n",
       "      <th>689</th>\n",
       "      <td>6962181067</td>\n",
       "      <td>2016-04-21</td>\n",
       "      <td>11835</td>\n",
       "      <td>9.71</td>\n",
       "      <td>7.88</td>\n",
       "      <td>4.081692</td>\n",
       "      <td>3.99</td>\n",
       "      <td>2.10</td>\n",
       "      <td>3.51</td>\n",
       "      <td>0.11</td>\n",
       "      <td>53</td>\n",
       "      <td>27</td>\n",
       "      <td>214</td>\n",
       "      <td>708</td>\n",
       "      <td>2179</td>\n",
       "      <td>1.830000</td>\n",
       "    </tr>\n",
       "    <tr>\n",
       "      <th>693</th>\n",
       "      <td>6962181067</td>\n",
       "      <td>2016-04-25</td>\n",
       "      <td>13239</td>\n",
       "      <td>9.27</td>\n",
       "      <td>9.08</td>\n",
       "      <td>2.785175</td>\n",
       "      <td>3.02</td>\n",
       "      <td>1.68</td>\n",
       "      <td>4.46</td>\n",
       "      <td>0.10</td>\n",
       "      <td>35</td>\n",
       "      <td>31</td>\n",
       "      <td>282</td>\n",
       "      <td>637</td>\n",
       "      <td>2194</td>\n",
       "      <td>0.190001</td>\n",
       "    </tr>\n",
       "    <tr>\n",
       "      <th>707</th>\n",
       "      <td>6962181067</td>\n",
       "      <td>2016-05-09</td>\n",
       "      <td>12342</td>\n",
       "      <td>8.72</td>\n",
       "      <td>8.68</td>\n",
       "      <td>3.167822</td>\n",
       "      <td>3.90</td>\n",
       "      <td>1.18</td>\n",
       "      <td>3.65</td>\n",
       "      <td>0.00</td>\n",
       "      <td>43</td>\n",
       "      <td>21</td>\n",
       "      <td>231</td>\n",
       "      <td>607</td>\n",
       "      <td>2105</td>\n",
       "      <td>0.040000</td>\n",
       "    </tr>\n",
       "    <tr>\n",
       "      <th>711</th>\n",
       "      <td>7007744171</td>\n",
       "      <td>2016-04-12</td>\n",
       "      <td>14172</td>\n",
       "      <td>10.29</td>\n",
       "      <td>9.48</td>\n",
       "      <td>4.869783</td>\n",
       "      <td>4.50</td>\n",
       "      <td>0.38</td>\n",
       "      <td>5.41</td>\n",
       "      <td>0.00</td>\n",
       "      <td>53</td>\n",
       "      <td>8</td>\n",
       "      <td>355</td>\n",
       "      <td>1024</td>\n",
       "      <td>2937</td>\n",
       "      <td>0.810000</td>\n",
       "    </tr>\n",
       "    <tr>\n",
       "      <th>712</th>\n",
       "      <td>7007744171</td>\n",
       "      <td>2016-04-13</td>\n",
       "      <td>12862</td>\n",
       "      <td>9.65</td>\n",
       "      <td>8.60</td>\n",
       "      <td>4.851307</td>\n",
       "      <td>4.61</td>\n",
       "      <td>0.56</td>\n",
       "      <td>4.48</td>\n",
       "      <td>0.00</td>\n",
       "      <td>56</td>\n",
       "      <td>22</td>\n",
       "      <td>261</td>\n",
       "      <td>1101</td>\n",
       "      <td>2742</td>\n",
       "      <td>1.049999</td>\n",
       "    </tr>\n",
       "    <tr>\n",
       "      <th>713</th>\n",
       "      <td>7007744171</td>\n",
       "      <td>2016-04-14</td>\n",
       "      <td>11179</td>\n",
       "      <td>8.24</td>\n",
       "      <td>7.48</td>\n",
       "      <td>3.285415</td>\n",
       "      <td>2.95</td>\n",
       "      <td>0.34</td>\n",
       "      <td>4.96</td>\n",
       "      <td>0.00</td>\n",
       "      <td>34</td>\n",
       "      <td>6</td>\n",
       "      <td>304</td>\n",
       "      <td>1096</td>\n",
       "      <td>2668</td>\n",
       "      <td>0.760000</td>\n",
       "    </tr>\n",
       "    <tr>\n",
       "      <th>717</th>\n",
       "      <td>7007744171</td>\n",
       "      <td>2016-04-18</td>\n",
       "      <td>14816</td>\n",
       "      <td>10.98</td>\n",
       "      <td>9.91</td>\n",
       "      <td>4.930550</td>\n",
       "      <td>3.79</td>\n",
       "      <td>2.12</td>\n",
       "      <td>5.05</td>\n",
       "      <td>0.02</td>\n",
       "      <td>48</td>\n",
       "      <td>31</td>\n",
       "      <td>284</td>\n",
       "      <td>1077</td>\n",
       "      <td>2832</td>\n",
       "      <td>1.070000</td>\n",
       "    </tr>\n",
       "    <tr>\n",
       "      <th>718</th>\n",
       "      <td>7007744171</td>\n",
       "      <td>2016-04-19</td>\n",
       "      <td>14194</td>\n",
       "      <td>10.48</td>\n",
       "      <td>9.50</td>\n",
       "      <td>4.942142</td>\n",
       "      <td>4.41</td>\n",
       "      <td>0.76</td>\n",
       "      <td>5.31</td>\n",
       "      <td>0.00</td>\n",
       "      <td>53</td>\n",
       "      <td>17</td>\n",
       "      <td>304</td>\n",
       "      <td>1066</td>\n",
       "      <td>2812</td>\n",
       "      <td>0.980000</td>\n",
       "    </tr>\n",
       "    <tr>\n",
       "      <th>719</th>\n",
       "      <td>7007744171</td>\n",
       "      <td>2016-04-20</td>\n",
       "      <td>15566</td>\n",
       "      <td>11.31</td>\n",
       "      <td>10.41</td>\n",
       "      <td>4.924841</td>\n",
       "      <td>4.79</td>\n",
       "      <td>0.67</td>\n",
       "      <td>5.86</td>\n",
       "      <td>0.00</td>\n",
       "      <td>60</td>\n",
       "      <td>33</td>\n",
       "      <td>347</td>\n",
       "      <td>1000</td>\n",
       "      <td>3096</td>\n",
       "      <td>0.900001</td>\n",
       "    </tr>\n",
       "    <tr>\n",
       "      <th>724</th>\n",
       "      <td>7007744171</td>\n",
       "      <td>2016-04-25</td>\n",
       "      <td>18229</td>\n",
       "      <td>13.34</td>\n",
       "      <td>12.20</td>\n",
       "      <td>4.861792</td>\n",
       "      <td>4.31</td>\n",
       "      <td>1.37</td>\n",
       "      <td>7.67</td>\n",
       "      <td>0.00</td>\n",
       "      <td>51</td>\n",
       "      <td>24</td>\n",
       "      <td>379</td>\n",
       "      <td>986</td>\n",
       "      <td>3055</td>\n",
       "      <td>1.140000</td>\n",
       "    </tr>\n",
       "    <tr>\n",
       "      <th>726</th>\n",
       "      <td>7007744171</td>\n",
       "      <td>2016-04-27</td>\n",
       "      <td>13541</td>\n",
       "      <td>10.22</td>\n",
       "      <td>9.06</td>\n",
       "      <td>4.885605</td>\n",
       "      <td>4.27</td>\n",
       "      <td>0.66</td>\n",
       "      <td>5.29</td>\n",
       "      <td>0.00</td>\n",
       "      <td>50</td>\n",
       "      <td>12</td>\n",
       "      <td>337</td>\n",
       "      <td>1041</td>\n",
       "      <td>2830</td>\n",
       "      <td>1.160000</td>\n",
       "    </tr>\n",
       "    <tr>\n",
       "      <th>728</th>\n",
       "      <td>7007744171</td>\n",
       "      <td>2016-04-29</td>\n",
       "      <td>20067</td>\n",
       "      <td>14.30</td>\n",
       "      <td>13.42</td>\n",
       "      <td>4.911146</td>\n",
       "      <td>4.31</td>\n",
       "      <td>2.05</td>\n",
       "      <td>7.95</td>\n",
       "      <td>0.00</td>\n",
       "      <td>55</td>\n",
       "      <td>42</td>\n",
       "      <td>382</td>\n",
       "      <td>961</td>\n",
       "      <td>3180</td>\n",
       "      <td>0.880000</td>\n",
       "    </tr>\n",
       "    <tr>\n",
       "      <th>731</th>\n",
       "      <td>7007744171</td>\n",
       "      <td>2016-05-02</td>\n",
       "      <td>13041</td>\n",
       "      <td>9.18</td>\n",
       "      <td>8.72</td>\n",
       "      <td>2.832326</td>\n",
       "      <td>4.64</td>\n",
       "      <td>0.70</td>\n",
       "      <td>3.83</td>\n",
       "      <td>0.00</td>\n",
       "      <td>64</td>\n",
       "      <td>14</td>\n",
       "      <td>250</td>\n",
       "      <td>1112</td>\n",
       "      <td>2642</td>\n",
       "      <td>0.460000</td>\n",
       "    </tr>\n",
       "    <tr>\n",
       "      <th>732</th>\n",
       "      <td>7007744171</td>\n",
       "      <td>2016-05-03</td>\n",
       "      <td>14510</td>\n",
       "      <td>10.87</td>\n",
       "      <td>9.71</td>\n",
       "      <td>4.912368</td>\n",
       "      <td>4.48</td>\n",
       "      <td>1.02</td>\n",
       "      <td>5.36</td>\n",
       "      <td>0.00</td>\n",
       "      <td>58</td>\n",
       "      <td>31</td>\n",
       "      <td>330</td>\n",
       "      <td>1021</td>\n",
       "      <td>2976</td>\n",
       "      <td>1.160000</td>\n",
       "    </tr>\n",
       "    <tr>\n",
       "      <th>734</th>\n",
       "      <td>7007744171</td>\n",
       "      <td>2016-05-05</td>\n",
       "      <td>15010</td>\n",
       "      <td>11.10</td>\n",
       "      <td>10.04</td>\n",
       "      <td>4.878232</td>\n",
       "      <td>4.33</td>\n",
       "      <td>1.29</td>\n",
       "      <td>5.48</td>\n",
       "      <td>0.00</td>\n",
       "      <td>53</td>\n",
       "      <td>23</td>\n",
       "      <td>317</td>\n",
       "      <td>1047</td>\n",
       "      <td>2933</td>\n",
       "      <td>1.060000</td>\n",
       "    </tr>\n",
       "  </tbody>\n",
       "</table>\n",
       "</div>"
      ],
      "text/plain": [
       "             Id ActivityDate  TotalSteps  TotalDistance  TrackerDistance  \\\n",
       "689  6962181067   2016-04-21       11835           9.71             7.88   \n",
       "693  6962181067   2016-04-25       13239           9.27             9.08   \n",
       "707  6962181067   2016-05-09       12342           8.72             8.68   \n",
       "711  7007744171   2016-04-12       14172          10.29             9.48   \n",
       "712  7007744171   2016-04-13       12862           9.65             8.60   \n",
       "713  7007744171   2016-04-14       11179           8.24             7.48   \n",
       "717  7007744171   2016-04-18       14816          10.98             9.91   \n",
       "718  7007744171   2016-04-19       14194          10.48             9.50   \n",
       "719  7007744171   2016-04-20       15566          11.31            10.41   \n",
       "724  7007744171   2016-04-25       18229          13.34            12.20   \n",
       "726  7007744171   2016-04-27       13541          10.22             9.06   \n",
       "728  7007744171   2016-04-29       20067          14.30            13.42   \n",
       "731  7007744171   2016-05-02       13041           9.18             8.72   \n",
       "732  7007744171   2016-05-03       14510          10.87             9.71   \n",
       "734  7007744171   2016-05-05       15010          11.10            10.04   \n",
       "\n",
       "     LoggedActivitiesDistance  VeryActiveDistance  ModeratelyActiveDistance  \\\n",
       "689                  4.081692                3.99                      2.10   \n",
       "693                  2.785175                3.02                      1.68   \n",
       "707                  3.167822                3.90                      1.18   \n",
       "711                  4.869783                4.50                      0.38   \n",
       "712                  4.851307                4.61                      0.56   \n",
       "713                  3.285415                2.95                      0.34   \n",
       "717                  4.930550                3.79                      2.12   \n",
       "718                  4.942142                4.41                      0.76   \n",
       "719                  4.924841                4.79                      0.67   \n",
       "724                  4.861792                4.31                      1.37   \n",
       "726                  4.885605                4.27                      0.66   \n",
       "728                  4.911146                4.31                      2.05   \n",
       "731                  2.832326                4.64                      0.70   \n",
       "732                  4.912368                4.48                      1.02   \n",
       "734                  4.878232                4.33                      1.29   \n",
       "\n",
       "     LightActiveDistance  SedentaryActiveDistance  VeryActiveMinutes  \\\n",
       "689                 3.51                     0.11                 53   \n",
       "693                 4.46                     0.10                 35   \n",
       "707                 3.65                     0.00                 43   \n",
       "711                 5.41                     0.00                 53   \n",
       "712                 4.48                     0.00                 56   \n",
       "713                 4.96                     0.00                 34   \n",
       "717                 5.05                     0.02                 48   \n",
       "718                 5.31                     0.00                 53   \n",
       "719                 5.86                     0.00                 60   \n",
       "724                 7.67                     0.00                 51   \n",
       "726                 5.29                     0.00                 50   \n",
       "728                 7.95                     0.00                 55   \n",
       "731                 3.83                     0.00                 64   \n",
       "732                 5.36                     0.00                 58   \n",
       "734                 5.48                     0.00                 53   \n",
       "\n",
       "     FairlyActiveMinutes  LightlyActiveMinutes  SedentaryMinutes  Calories  \\\n",
       "689                   27                   214               708      2179   \n",
       "693                   31                   282               637      2194   \n",
       "707                   21                   231               607      2105   \n",
       "711                    8                   355              1024      2937   \n",
       "712                   22                   261              1101      2742   \n",
       "713                    6                   304              1096      2668   \n",
       "717                   31                   284              1077      2832   \n",
       "718                   17                   304              1066      2812   \n",
       "719                   33                   347              1000      3096   \n",
       "724                   24                   379               986      3055   \n",
       "726                   12                   337              1041      2830   \n",
       "728                   42                   382               961      3180   \n",
       "731                   14                   250              1112      2642   \n",
       "732                   31                   330              1021      2976   \n",
       "734                   23                   317              1047      2933   \n",
       "\n",
       "     distance_diff  \n",
       "689       1.830000  \n",
       "693       0.190001  \n",
       "707       0.040000  \n",
       "711       0.810000  \n",
       "712       1.049999  \n",
       "713       0.760000  \n",
       "717       1.070000  \n",
       "718       0.980000  \n",
       "719       0.900001  \n",
       "724       1.140000  \n",
       "726       1.160000  \n",
       "728       0.880000  \n",
       "731       0.460000  \n",
       "732       1.160000  \n",
       "734       1.060000  "
      ]
     },
     "execution_count": 11,
     "metadata": {},
     "output_type": "execute_result"
    }
   ],
   "source": [
    "df.query('distance_diff > 0.0')"
   ]
  },
  {
   "cell_type": "markdown",
   "id": "3c80accb",
   "metadata": {
    "papermill": {
     "duration": 0.014383,
     "end_time": "2024-07-12T02:31:46.576102",
     "exception": false,
     "start_time": "2024-07-12T02:31:46.561719",
     "status": "completed"
    },
    "tags": []
   },
   "source": [
    "This shows these columns are not storing the same data."
   ]
  },
  {
   "cell_type": "code",
   "execution_count": 12,
   "id": "8f46b6fd",
   "metadata": {
    "execution": {
     "iopub.execute_input": "2024-07-12T02:31:46.607198Z",
     "iopub.status.busy": "2024-07-12T02:31:46.606775Z",
     "iopub.status.idle": "2024-07-12T02:31:46.615849Z",
     "shell.execute_reply": "2024-07-12T02:31:46.614620Z"
    },
    "papermill": {
     "duration": 0.0275,
     "end_time": "2024-07-12T02:31:46.618321",
     "exception": false,
     "start_time": "2024-07-12T02:31:46.590821",
     "status": "completed"
    },
    "tags": []
   },
   "outputs": [
    {
     "data": {
      "text/plain": [
       "Index(['id', 'activitydate', 'totalsteps', 'totaldistance', 'trackerdistance',\n",
       "       'loggedactivitiesdistance', 'veryactivedistance',\n",
       "       'moderatelyactivedistance', 'lightactivedistance',\n",
       "       'sedentaryactivedistance', 'veryactiveminutes', 'fairlyactiveminutes',\n",
       "       'lightlyactiveminutes', 'sedentaryminutes', 'calories',\n",
       "       'distance_diff'],\n",
       "      dtype='object')"
      ]
     },
     "execution_count": 12,
     "metadata": {},
     "output_type": "execute_result"
    }
   ],
   "source": [
    "df.columns = df.columns.str.lower()\n",
    "df.columns"
   ]
  },
  {
   "cell_type": "code",
   "execution_count": 13,
   "id": "090878e3",
   "metadata": {
    "execution": {
     "iopub.execute_input": "2024-07-12T02:31:46.650868Z",
     "iopub.status.busy": "2024-07-12T02:31:46.650439Z",
     "iopub.status.idle": "2024-07-12T02:31:46.661844Z",
     "shell.execute_reply": "2024-07-12T02:31:46.660644Z"
    },
    "papermill": {
     "duration": 0.03073,
     "end_time": "2024-07-12T02:31:46.664484",
     "exception": false,
     "start_time": "2024-07-12T02:31:46.633754",
     "status": "completed"
    },
    "tags": []
   },
   "outputs": [
    {
     "data": {
      "text/plain": [
       "Index(['id', 'activity_date', 'total_steps', 'total_distance',\n",
       "       'tracker_distance', 'logged_activities_distance',\n",
       "       'very_active_distance', 'moderately_active_distance',\n",
       "       'light_active_distance', 'sedentary_active_distance',\n",
       "       'very_active_minutes', 'fairly_active_minutes',\n",
       "       'lightly_active_minutes', 'sedentary_minutes', 'calories',\n",
       "       'distance_diff'],\n",
       "      dtype='object')"
      ]
     },
     "execution_count": 13,
     "metadata": {},
     "output_type": "execute_result"
    }
   ],
   "source": [
    "# separate columns using underscore\n",
    "df.rename(columns = {'activitydate':'activity_date', 'totalsteps':'total_steps', \n",
    "                     'totaldistance':'total_distance', 'trackerdistance':'tracker_distance',\n",
    "                     'loggedactivitiesdistance':'logged_activities_distance',\n",
    "                     'veryactivedistance':'very_active_distance',\n",
    "       'moderatelyactivedistance':'moderately_active_distance', 'lightactivedistance':'light_active_distance',\n",
    "       'sedentaryactivedistance':'sedentary_active_distance', 'veryactiveminutes':'very_active_minutes', \n",
    "                     'fairlyactiveminutes':'fairly_active_minutes',\n",
    "       'lightlyactiveminutes':'lightly_active_minutes', 'sedentaryminutes':'sedentary_minutes'}, inplace=True),\n",
    "df.columns"
   ]
  },
  {
   "cell_type": "code",
   "execution_count": 14,
   "id": "73efe0a8",
   "metadata": {
    "execution": {
     "iopub.execute_input": "2024-07-12T02:31:46.696059Z",
     "iopub.status.busy": "2024-07-12T02:31:46.695630Z",
     "iopub.status.idle": "2024-07-12T02:31:46.704938Z",
     "shell.execute_reply": "2024-07-12T02:31:46.703728Z"
    },
    "papermill": {
     "duration": 0.028109,
     "end_time": "2024-07-12T02:31:46.707564",
     "exception": false,
     "start_time": "2024-07-12T02:31:46.679455",
     "status": "completed"
    },
    "tags": []
   },
   "outputs": [],
   "source": [
    "# Create columns\n",
    "day_of_week = df['activity_date'].dt.day_name()\n",
    "df['day_of_week'] = day_of_week\n",
    "\n",
    "df['n_day_of_week'] = df['activity_date'].dt.weekday # 0 = Monday and 6 = Sunday"
   ]
  },
  {
   "cell_type": "code",
   "execution_count": 15,
   "id": "12e9378e",
   "metadata": {
    "execution": {
     "iopub.execute_input": "2024-07-12T02:31:46.739541Z",
     "iopub.status.busy": "2024-07-12T02:31:46.739165Z",
     "iopub.status.idle": "2024-07-12T02:31:46.747273Z",
     "shell.execute_reply": "2024-07-12T02:31:46.746113Z"
    },
    "papermill": {
     "duration": 0.02715,
     "end_time": "2024-07-12T02:31:46.750010",
     "exception": false,
     "start_time": "2024-07-12T02:31:46.722860",
     "status": "completed"
    },
    "tags": []
   },
   "outputs": [
    {
     "data": {
      "text/plain": [
       "Index(['id', 'activity_date', 'total_steps', 'total_distance',\n",
       "       'tracker_distance', 'logged_activities_distance',\n",
       "       'very_active_distance', 'moderately_active_distance',\n",
       "       'light_active_distance', 'sedentary_active_distance',\n",
       "       'very_active_minutes', 'fairly_active_minutes',\n",
       "       'lightly_active_minutes', 'sedentary_minutes', 'calories',\n",
       "       'distance_diff', 'day_of_week', 'n_day_of_week'],\n",
       "      dtype='object')"
      ]
     },
     "execution_count": 15,
     "metadata": {},
     "output_type": "execute_result"
    }
   ],
   "source": [
    "df.columns"
   ]
  },
  {
   "cell_type": "code",
   "execution_count": 16,
   "id": "444c9192",
   "metadata": {
    "execution": {
     "iopub.execute_input": "2024-07-12T02:31:46.782200Z",
     "iopub.status.busy": "2024-07-12T02:31:46.781765Z",
     "iopub.status.idle": "2024-07-12T02:31:46.793356Z",
     "shell.execute_reply": "2024-07-12T02:31:46.791873Z"
    },
    "papermill": {
     "duration": 0.031233,
     "end_time": "2024-07-12T02:31:46.796476",
     "exception": false,
     "start_time": "2024-07-12T02:31:46.765243",
     "status": "completed"
    },
    "tags": []
   },
   "outputs": [
    {
     "data": {
      "text/plain": [
       "id                            0\n",
       "activity_date                 0\n",
       "total_steps                   0\n",
       "total_distance                0\n",
       "tracker_distance              0\n",
       "logged_activities_distance    0\n",
       "very_active_distance          0\n",
       "moderately_active_distance    0\n",
       "light_active_distance         0\n",
       "sedentary_active_distance     0\n",
       "very_active_minutes           0\n",
       "fairly_active_minutes         0\n",
       "lightly_active_minutes        0\n",
       "sedentary_minutes             0\n",
       "calories                      0\n",
       "distance_diff                 0\n",
       "day_of_week                   0\n",
       "n_day_of_week                 0\n",
       "dtype: int64"
      ]
     },
     "execution_count": 16,
     "metadata": {},
     "output_type": "execute_result"
    }
   ],
   "source": [
    "# Checking null values\n",
    "df.isna().sum() # number of null values\n",
    "# use isna or isnull"
   ]
  },
  {
   "cell_type": "markdown",
   "id": "cf2e5174",
   "metadata": {
    "papermill": {
     "duration": 0.016013,
     "end_time": "2024-07-12T02:31:46.828023",
     "exception": false,
     "start_time": "2024-07-12T02:31:46.812010",
     "status": "completed"
    },
    "tags": []
   },
   "source": [
    "There are no *null* values"
   ]
  },
  {
   "cell_type": "code",
   "execution_count": 17,
   "id": "dde4bf0c",
   "metadata": {
    "execution": {
     "iopub.execute_input": "2024-07-12T02:31:46.860620Z",
     "iopub.status.busy": "2024-07-12T02:31:46.860223Z",
     "iopub.status.idle": "2024-07-12T02:31:46.874066Z",
     "shell.execute_reply": "2024-07-12T02:31:46.872401Z"
    },
    "papermill": {
     "duration": 0.033456,
     "end_time": "2024-07-12T02:31:46.877036",
     "exception": false,
     "start_time": "2024-07-12T02:31:46.843580",
     "status": "completed"
    },
    "tags": []
   },
   "outputs": [
    {
     "data": {
      "text/plain": [
       "0"
      ]
     },
     "execution_count": 17,
     "metadata": {},
     "output_type": "execute_result"
    }
   ],
   "source": [
    "# Checking for duplicates\n",
    "df.duplicated().sum()"
   ]
  },
  {
   "cell_type": "markdown",
   "id": "2f1719c9",
   "metadata": {
    "papermill": {
     "duration": 0.01553,
     "end_time": "2024-07-12T02:31:46.908749",
     "exception": false,
     "start_time": "2024-07-12T02:31:46.893219",
     "status": "completed"
    },
    "tags": []
   },
   "source": [
    "No duplicates"
   ]
  },
  {
   "cell_type": "code",
   "execution_count": 18,
   "id": "685855ca",
   "metadata": {
    "execution": {
     "iopub.execute_input": "2024-07-12T02:31:46.944319Z",
     "iopub.status.busy": "2024-07-12T02:31:46.943920Z",
     "iopub.status.idle": "2024-07-12T02:31:49.006957Z",
     "shell.execute_reply": "2024-07-12T02:31:49.005004Z"
    },
    "papermill": {
     "duration": 2.083304,
     "end_time": "2024-07-12T02:31:49.009397",
     "exception": true,
     "start_time": "2024-07-12T02:31:46.926093",
     "status": "failed"
    },
    "tags": []
   },
   "outputs": [
    {
     "ename": "KeyError",
     "evalue": "\"['activity_level'] not in index\"",
     "output_type": "error",
     "traceback": [
      "\u001b[0;31m---------------------------------------------------------------------------\u001b[0m",
      "\u001b[0;31mKeyError\u001b[0m                                  Traceback (most recent call last)",
      "Cell \u001b[0;32mIn[18], line 2\u001b[0m\n\u001b[1;32m      1\u001b[0m \u001b[38;5;66;03m# Subset the data\u001b[39;00m\n\u001b[0;32m----> 2\u001b[0m df \u001b[38;5;241m=\u001b[39m \u001b[43mdf\u001b[49m\u001b[43m[\u001b[49m\u001b[43m[\u001b[49m\u001b[38;5;124;43m'\u001b[39;49m\u001b[38;5;124;43mid\u001b[39;49m\u001b[38;5;124;43m'\u001b[39;49m\u001b[43m,\u001b[49m\u001b[43m \u001b[49m\u001b[38;5;124;43m'\u001b[39;49m\u001b[38;5;124;43mactivity_date\u001b[39;49m\u001b[38;5;124;43m'\u001b[39;49m\u001b[43m,\u001b[49m\u001b[43m \u001b[49m\u001b[38;5;124;43m'\u001b[39;49m\u001b[38;5;124;43mtotal_steps\u001b[39;49m\u001b[38;5;124;43m'\u001b[39;49m\u001b[43m,\u001b[49m\u001b[43m \u001b[49m\u001b[38;5;124;43m'\u001b[39;49m\u001b[38;5;124;43mtotal_distance\u001b[39;49m\u001b[38;5;124;43m'\u001b[39;49m\u001b[43m,\u001b[49m\n\u001b[1;32m      3\u001b[0m \u001b[43m       \u001b[49m\u001b[38;5;124;43m'\u001b[39;49m\u001b[38;5;124;43mvery_active_minutes\u001b[39;49m\u001b[38;5;124;43m'\u001b[39;49m\u001b[43m,\u001b[49m\u001b[43m \u001b[49m\u001b[38;5;124;43m'\u001b[39;49m\u001b[38;5;124;43mfairly_active_minutes\u001b[39;49m\u001b[38;5;124;43m'\u001b[39;49m\u001b[43m,\u001b[49m\n\u001b[1;32m      4\u001b[0m \u001b[43m       \u001b[49m\u001b[38;5;124;43m'\u001b[39;49m\u001b[38;5;124;43mlightly_active_minutes\u001b[39;49m\u001b[38;5;124;43m'\u001b[39;49m\u001b[43m,\u001b[49m\u001b[43m \u001b[49m\u001b[38;5;124;43m'\u001b[39;49m\u001b[38;5;124;43msedentary_minutes\u001b[39;49m\u001b[38;5;124;43m'\u001b[39;49m\u001b[43m,\u001b[49m\u001b[43m \u001b[49m\u001b[38;5;124;43m'\u001b[39;49m\u001b[38;5;124;43mcalories\u001b[39;49m\u001b[38;5;124;43m'\u001b[39;49m\u001b[43m,\u001b[49m\n\u001b[1;32m      5\u001b[0m \u001b[43m       \u001b[49m\u001b[38;5;124;43m'\u001b[39;49m\u001b[38;5;124;43mactivity_level\u001b[39;49m\u001b[38;5;124;43m'\u001b[39;49m\u001b[43m,\u001b[49m\u001b[43m \u001b[49m\u001b[38;5;124;43m'\u001b[39;49m\u001b[38;5;124;43mday_of_week\u001b[39;49m\u001b[38;5;124;43m'\u001b[39;49m\u001b[43m,\u001b[49m\u001b[43m \u001b[49m\u001b[38;5;124;43m'\u001b[39;49m\u001b[38;5;124;43mn_day_of_week\u001b[39;49m\u001b[38;5;124;43m'\u001b[39;49m\u001b[43m]\u001b[49m\u001b[43m]\u001b[49m\u001b[38;5;241m.\u001b[39mcopy()\n",
      "File \u001b[0;32m/opt/conda/lib/python3.10/site-packages/pandas/core/frame.py:4108\u001b[0m, in \u001b[0;36mDataFrame.__getitem__\u001b[0;34m(self, key)\u001b[0m\n\u001b[1;32m   4106\u001b[0m     \u001b[38;5;28;01mif\u001b[39;00m is_iterator(key):\n\u001b[1;32m   4107\u001b[0m         key \u001b[38;5;241m=\u001b[39m \u001b[38;5;28mlist\u001b[39m(key)\n\u001b[0;32m-> 4108\u001b[0m     indexer \u001b[38;5;241m=\u001b[39m \u001b[38;5;28;43mself\u001b[39;49m\u001b[38;5;241;43m.\u001b[39;49m\u001b[43mcolumns\u001b[49m\u001b[38;5;241;43m.\u001b[39;49m\u001b[43m_get_indexer_strict\u001b[49m\u001b[43m(\u001b[49m\u001b[43mkey\u001b[49m\u001b[43m,\u001b[49m\u001b[43m \u001b[49m\u001b[38;5;124;43m\"\u001b[39;49m\u001b[38;5;124;43mcolumns\u001b[39;49m\u001b[38;5;124;43m\"\u001b[39;49m\u001b[43m)\u001b[49m[\u001b[38;5;241m1\u001b[39m]\n\u001b[1;32m   4110\u001b[0m \u001b[38;5;66;03m# take() does not accept boolean indexers\u001b[39;00m\n\u001b[1;32m   4111\u001b[0m \u001b[38;5;28;01mif\u001b[39;00m \u001b[38;5;28mgetattr\u001b[39m(indexer, \u001b[38;5;124m\"\u001b[39m\u001b[38;5;124mdtype\u001b[39m\u001b[38;5;124m\"\u001b[39m, \u001b[38;5;28;01mNone\u001b[39;00m) \u001b[38;5;241m==\u001b[39m \u001b[38;5;28mbool\u001b[39m:\n",
      "File \u001b[0;32m/opt/conda/lib/python3.10/site-packages/pandas/core/indexes/base.py:6200\u001b[0m, in \u001b[0;36mIndex._get_indexer_strict\u001b[0;34m(self, key, axis_name)\u001b[0m\n\u001b[1;32m   6197\u001b[0m \u001b[38;5;28;01melse\u001b[39;00m:\n\u001b[1;32m   6198\u001b[0m     keyarr, indexer, new_indexer \u001b[38;5;241m=\u001b[39m \u001b[38;5;28mself\u001b[39m\u001b[38;5;241m.\u001b[39m_reindex_non_unique(keyarr)\n\u001b[0;32m-> 6200\u001b[0m \u001b[38;5;28;43mself\u001b[39;49m\u001b[38;5;241;43m.\u001b[39;49m\u001b[43m_raise_if_missing\u001b[49m\u001b[43m(\u001b[49m\u001b[43mkeyarr\u001b[49m\u001b[43m,\u001b[49m\u001b[43m \u001b[49m\u001b[43mindexer\u001b[49m\u001b[43m,\u001b[49m\u001b[43m \u001b[49m\u001b[43maxis_name\u001b[49m\u001b[43m)\u001b[49m\n\u001b[1;32m   6202\u001b[0m keyarr \u001b[38;5;241m=\u001b[39m \u001b[38;5;28mself\u001b[39m\u001b[38;5;241m.\u001b[39mtake(indexer)\n\u001b[1;32m   6203\u001b[0m \u001b[38;5;28;01mif\u001b[39;00m \u001b[38;5;28misinstance\u001b[39m(key, Index):\n\u001b[1;32m   6204\u001b[0m     \u001b[38;5;66;03m# GH 42790 - Preserve name from an Index\u001b[39;00m\n",
      "File \u001b[0;32m/opt/conda/lib/python3.10/site-packages/pandas/core/indexes/base.py:6252\u001b[0m, in \u001b[0;36mIndex._raise_if_missing\u001b[0;34m(self, key, indexer, axis_name)\u001b[0m\n\u001b[1;32m   6249\u001b[0m     \u001b[38;5;28;01mraise\u001b[39;00m \u001b[38;5;167;01mKeyError\u001b[39;00m(\u001b[38;5;124mf\u001b[39m\u001b[38;5;124m\"\u001b[39m\u001b[38;5;124mNone of [\u001b[39m\u001b[38;5;132;01m{\u001b[39;00mkey\u001b[38;5;132;01m}\u001b[39;00m\u001b[38;5;124m] are in the [\u001b[39m\u001b[38;5;132;01m{\u001b[39;00maxis_name\u001b[38;5;132;01m}\u001b[39;00m\u001b[38;5;124m]\u001b[39m\u001b[38;5;124m\"\u001b[39m)\n\u001b[1;32m   6251\u001b[0m not_found \u001b[38;5;241m=\u001b[39m \u001b[38;5;28mlist\u001b[39m(ensure_index(key)[missing_mask\u001b[38;5;241m.\u001b[39mnonzero()[\u001b[38;5;241m0\u001b[39m]]\u001b[38;5;241m.\u001b[39munique())\n\u001b[0;32m-> 6252\u001b[0m \u001b[38;5;28;01mraise\u001b[39;00m \u001b[38;5;167;01mKeyError\u001b[39;00m(\u001b[38;5;124mf\u001b[39m\u001b[38;5;124m\"\u001b[39m\u001b[38;5;132;01m{\u001b[39;00mnot_found\u001b[38;5;132;01m}\u001b[39;00m\u001b[38;5;124m not in index\u001b[39m\u001b[38;5;124m\"\u001b[39m)\n",
      "\u001b[0;31mKeyError\u001b[0m: \"['activity_level'] not in index\""
     ]
    }
   ],
   "source": [
    "# Subset the data\n",
    "df = df[['id', 'activity_date', 'total_steps', 'total_distance',\n",
    "       'very_active_minutes', 'fairly_active_minutes',\n",
    "       'lightly_active_minutes', 'sedentary_minutes', 'calories',\n",
    "       'activity_level', 'day_of_week', 'n_day_of_week']].copy()"
   ]
  },
  {
   "cell_type": "markdown",
   "id": "249bcd7b",
   "metadata": {
    "papermill": {
     "duration": null,
     "end_time": null,
     "exception": null,
     "start_time": null,
     "status": "pending"
    },
    "tags": []
   },
   "source": [
    "Getting rid of anything related to distance (other than 'total_distance) because I don't have supporting information to track how distance is measured (feet, miles, kilometers, etc.) However, the amount of steps taken accounts for distance: the more steps taken, the longer the distance covered."
   ]
  },
  {
   "cell_type": "code",
   "execution_count": null,
   "id": "ebe1860a",
   "metadata": {
    "execution": {
     "iopub.execute_input": "2024-07-12T01:14:52.394195Z",
     "iopub.status.busy": "2024-07-12T01:14:52.393789Z",
     "iopub.status.idle": "2024-07-12T01:14:52.410439Z",
     "shell.execute_reply": "2024-07-12T01:14:52.409301Z",
     "shell.execute_reply.started": "2024-07-12T01:14:52.394156Z"
    },
    "papermill": {
     "duration": null,
     "end_time": null,
     "exception": null,
     "start_time": null,
     "status": "pending"
    },
    "tags": []
   },
   "outputs": [],
   "source": [
    "df.head(7)"
   ]
  },
  {
   "cell_type": "code",
   "execution_count": null,
   "id": "68d25a31",
   "metadata": {
    "execution": {
     "iopub.execute_input": "2024-07-12T00:05:09.210138Z",
     "iopub.status.busy": "2024-07-12T00:05:09.209728Z",
     "iopub.status.idle": "2024-07-12T00:05:09.226246Z",
     "shell.execute_reply": "2024-07-12T00:05:09.224787Z",
     "shell.execute_reply.started": "2024-07-12T00:05:09.210104Z"
    },
    "papermill": {
     "duration": null,
     "end_time": null,
     "exception": null,
     "start_time": null,
     "status": "pending"
    },
    "tags": []
   },
   "outputs": [],
   "source": [
    "# Analysis\n",
    "\n",
    "# min steps \n",
    "min_value = df['total_steps'].min()\n",
    "print(f'Minimum steps per day: {min_value}')\n",
    "# max steps\n",
    "max_value = df['total_steps'].max()\n",
    "print(f'Maximum steps per day: {max_value}')\n",
    "# average steps\n",
    "average_value = df['total_steps'].mean()\n",
    "print(f'Average steps per day: {average_value}')\n",
    "\n",
    "# First set of ategories\n",
    "# sedentary: less than 7000 on average\n",
    "# active: between 7000 and 15000 on average\n",
    "# very active: more than 15000 on average\n",
    "\n",
    "df['activity_date'].value_counts()"
   ]
  },
  {
   "cell_type": "markdown",
   "id": "a39cab84",
   "metadata": {
    "papermill": {
     "duration": null,
     "end_time": null,
     "exception": null,
     "start_time": null,
     "status": "pending"
    },
    "tags": []
   },
   "source": [
    "Data for one month"
   ]
  },
  {
   "cell_type": "code",
   "execution_count": null,
   "id": "a6e034ff",
   "metadata": {
    "execution": {
     "iopub.execute_input": "2024-07-12T00:04:50.958742Z",
     "iopub.status.busy": "2024-07-12T00:04:50.958335Z",
     "iopub.status.idle": "2024-07-12T00:04:50.966675Z",
     "shell.execute_reply": "2024-07-12T00:04:50.965394Z",
     "shell.execute_reply.started": "2024-07-12T00:04:50.958711Z"
    },
    "papermill": {
     "duration": null,
     "end_time": null,
     "exception": null,
     "start_time": null,
     "status": "pending"
    },
    "tags": []
   },
   "outputs": [],
   "source": [
    "df['id'].unique()"
   ]
  },
  {
   "cell_type": "markdown",
   "id": "ba021275",
   "metadata": {
    "papermill": {
     "duration": null,
     "end_time": null,
     "exception": null,
     "start_time": null,
     "status": "pending"
    },
    "tags": []
   },
   "source": [
    "33 participants"
   ]
  },
  {
   "cell_type": "code",
   "execution_count": null,
   "id": "63327df2",
   "metadata": {
    "execution": {
     "iopub.execute_input": "2024-07-12T00:50:06.716184Z",
     "iopub.status.busy": "2024-07-12T00:50:06.715736Z",
     "iopub.status.idle": "2024-07-12T00:50:06.731704Z",
     "shell.execute_reply": "2024-07-12T00:50:06.730674Z",
     "shell.execute_reply.started": "2024-07-12T00:50:06.716151Z"
    },
    "papermill": {
     "duration": null,
     "end_time": null,
     "exception": null,
     "start_time": null,
     "status": "pending"
    },
    "tags": []
   },
   "outputs": [],
   "source": [
    "id_group = df.groupby(['id'])\n",
    "id_average_steps = id_group['total_steps'].mean().sort_values(ascending=False)\n",
    "id_average_steps = id_average_steps.to_frame()\n",
    "\n",
    "id_average_steps\n",
    "\n",
    "conditions = [\n",
    "    (id_average_steps <= 5000),\n",
    "    (id_average_steps > 5000) & (id_average_steps < 12000),\n",
    "    (id_average_steps >= 12000)\n",
    "]\n",
    "values = ['sedentary','active','very_active']\n",
    "\n",
    "id_average_steps['activity_level'] = np.select(conditions,values)\n",
    "\n",
    "id_activity_level = id_average_steps['activity_level']\n",
    "\n",
    "df['activity_level'] = [id_activity_level[a] for a in df['id']]"
   ]
  },
  {
   "cell_type": "markdown",
   "id": "14b09b42",
   "metadata": {
    "papermill": {
     "duration": null,
     "end_time": null,
     "exception": null,
     "start_time": null,
     "status": "pending"
    },
    "tags": []
   },
   "source": [
    "Information by ID. Sum of total steps divided by how many time each ID appears and shows how active each participant is."
   ]
  },
  {
   "cell_type": "code",
   "execution_count": null,
   "id": "53afde6d",
   "metadata": {
    "execution": {
     "iopub.execute_input": "2024-07-12T00:52:29.999914Z",
     "iopub.status.busy": "2024-07-12T00:52:29.998843Z",
     "iopub.status.idle": "2024-07-12T00:52:30.011481Z",
     "shell.execute_reply": "2024-07-12T00:52:30.010127Z",
     "shell.execute_reply.started": "2024-07-12T00:52:29.999874Z"
    },
    "papermill": {
     "duration": null,
     "end_time": null,
     "exception": null,
     "start_time": null,
     "status": "pending"
    },
    "tags": []
   },
   "outputs": [],
   "source": [
    "df['activity_date'].nunique()"
   ]
  },
  {
   "cell_type": "markdown",
   "id": "9e4f44f6",
   "metadata": {
    "papermill": {
     "duration": null,
     "end_time": null,
     "exception": null,
     "start_time": null,
     "status": "pending"
    },
    "tags": []
   },
   "source": [
    "31 unique dates"
   ]
  },
  {
   "cell_type": "code",
   "execution_count": null,
   "id": "afd23ef7",
   "metadata": {
    "execution": {
     "iopub.execute_input": "2024-07-12T00:53:20.206719Z",
     "iopub.status.busy": "2024-07-12T00:53:20.206340Z",
     "iopub.status.idle": "2024-07-12T00:53:20.216302Z",
     "shell.execute_reply": "2024-07-12T00:53:20.215195Z",
     "shell.execute_reply.started": "2024-07-12T00:53:20.206688Z"
    },
    "papermill": {
     "duration": null,
     "end_time": null,
     "exception": null,
     "start_time": null,
     "status": "pending"
    },
    "tags": []
   },
   "outputs": [],
   "source": [
    "df['id'].value_counts()"
   ]
  },
  {
   "cell_type": "markdown",
   "id": "d3c0f1f2",
   "metadata": {
    "papermill": {
     "duration": null,
     "end_time": null,
     "exception": null,
     "start_time": null,
     "status": "pending"
    },
    "tags": []
   },
   "source": [
    "Some participants did not complete a full month"
   ]
  },
  {
   "cell_type": "code",
   "execution_count": null,
   "id": "c56d83f9",
   "metadata": {
    "execution": {
     "iopub.execute_input": "2024-07-12T00:53:55.666032Z",
     "iopub.status.busy": "2024-07-12T00:53:55.665647Z",
     "iopub.status.idle": "2024-07-12T00:53:55.704025Z",
     "shell.execute_reply": "2024-07-12T00:53:55.702812Z",
     "shell.execute_reply.started": "2024-07-12T00:53:55.666002Z"
    },
    "papermill": {
     "duration": null,
     "end_time": null,
     "exception": null,
     "start_time": null,
     "status": "pending"
    },
    "tags": []
   },
   "outputs": [],
   "source": [
    "df.describe()"
   ]
  },
  {
   "cell_type": "code",
   "execution_count": null,
   "id": "4e2165a7",
   "metadata": {
    "execution": {
     "iopub.execute_input": "2024-07-12T01:16:19.922978Z",
     "iopub.status.busy": "2024-07-12T01:16:19.922165Z",
     "iopub.status.idle": "2024-07-12T01:16:19.937837Z",
     "shell.execute_reply": "2024-07-12T01:16:19.936675Z",
     "shell.execute_reply.started": "2024-07-12T01:16:19.922935Z"
    },
    "papermill": {
     "duration": null,
     "end_time": null,
     "exception": null,
     "start_time": null,
     "status": "pending"
    },
    "tags": []
   },
   "outputs": [],
   "source": [
    "# Second set of categories\n",
    "# low usage: less than 8 hours per day\n",
    "# normal usage: between 8 and 16 hours per day\n",
    "# high usage: more than 16 hours and up to 24 hours\n",
    "df.head(5)"
   ]
  },
  {
   "cell_type": "code",
   "execution_count": null,
   "id": "b7682d08",
   "metadata": {
    "execution": {
     "iopub.execute_input": "2024-07-12T01:18:52.845836Z",
     "iopub.status.busy": "2024-07-12T01:18:52.845431Z",
     "iopub.status.idle": "2024-07-12T01:18:53.324729Z",
     "shell.execute_reply": "2024-07-12T01:18:53.323508Z",
     "shell.execute_reply.started": "2024-07-12T01:18:52.845804Z"
    },
    "papermill": {
     "duration": null,
     "end_time": null,
     "exception": null,
     "start_time": null,
     "status": "pending"
    },
    "tags": []
   },
   "outputs": [],
   "source": [
    "# Share\n",
    "# Correlation between calories burnt and steps taken\n",
    "\n",
    "ax = sns.scatterplot(x='total_steps', y='calories', data=df, hue=df['activity_level'])\n",
    "\n",
    "plt.title('Correlation: Calories Vs. Steps')\n",
    "\n",
    "plt.tight_layout()\n",
    "plt.show()\n"
   ]
  },
  {
   "cell_type": "markdown",
   "id": "04635da4",
   "metadata": {
    "papermill": {
     "duration": null,
     "end_time": null,
     "exception": null,
     "start_time": null,
     "status": "pending"
    },
    "tags": []
   },
   "source": [
    "On average, participants burnt more calories as they took more steps."
   ]
  },
  {
   "cell_type": "code",
   "execution_count": null,
   "id": "888a4269",
   "metadata": {
    "execution": {
     "iopub.execute_input": "2024-07-12T01:47:43.195444Z",
     "iopub.status.busy": "2024-07-12T01:47:43.195041Z",
     "iopub.status.idle": "2024-07-12T01:47:43.484829Z",
     "shell.execute_reply": "2024-07-12T01:47:43.483589Z",
     "shell.execute_reply.started": "2024-07-12T01:47:43.195412Z"
    },
    "papermill": {
     "duration": null,
     "end_time": null,
     "exception": null,
     "start_time": null,
     "status": "pending"
    },
    "tags": []
   },
   "outputs": [],
   "source": [
    "# Average steps per day\n",
    "\n",
    "day_of_week = ['Monday', 'Tuesday', 'Wednesday', 'Thursday', 'Friday', 'Saturday', 'Sunday']\n",
    "\n",
    "# Create a gradient of blue colors\n",
    "num_colors = len(day_of_week)\n",
    "colors = plt.cm.Blues(np.linspace(0.2, 1, num_colors)) \n",
    "\n",
    "fig, ax = plt.subplots(1,1,figsize=(10,7))\n",
    "\n",
    "day_group  = df.groupby(['day_of_week'])\n",
    "average_daily_steps = day_group['total_steps'].mean()\n",
    "average_steps = df['total_steps'].mean()\n",
    "\n",
    "plt.bar(average_daily_steps.index, average_daily_steps, color=colors)\n",
    "\n",
    "ax.set_xticks(range(len(day_of_week)))\n",
    "ax.set_xticklabels(day_of_week)\n",
    "\n",
    "# Add overall average line\n",
    "plt.axhline(average_steps, color='r', linestyle='--', label='Average Daily Steps')\n",
    "\n",
    "# Labeling the plot\n",
    "plt.xlabel('Day of Week')\n",
    "plt.ylabel('Average Steps')\n",
    "plt.title('Average Steps per Day of the Week')\n",
    "plt.legend()\n",
    "\n",
    "# Display the plot\n",
    "plt.show()"
   ]
  },
  {
   "cell_type": "markdown",
   "id": "e3d5b10f",
   "metadata": {
    "papermill": {
     "duration": null,
     "end_time": null,
     "exception": null,
     "start_time": null,
     "status": "pending"
    },
    "tags": []
   },
   "source": [
    "On Thursday participants took the least amount of steps (on average) whilst on Wednesday and Saturday participants took more steps (on average). Thursday and Friday are the least active days while Saturday and Wednesday are very active."
   ]
  },
  {
   "cell_type": "code",
   "execution_count": null,
   "id": "c24dc91f",
   "metadata": {
    "execution": {
     "iopub.execute_input": "2024-07-12T01:58:52.842653Z",
     "iopub.status.busy": "2024-07-12T01:58:52.842253Z",
     "iopub.status.idle": "2024-07-12T01:58:53.227754Z",
     "shell.execute_reply": "2024-07-12T01:58:53.226372Z",
     "shell.execute_reply.started": "2024-07-12T01:58:52.842618Z"
    },
    "papermill": {
     "duration": null,
     "end_time": null,
     "exception": null,
     "start_time": null,
     "status": "pending"
    },
    "tags": []
   },
   "outputs": [],
   "source": [
    "# Percentage of activity in minutes\n",
    "\n",
    "very_active_mins = df['very_active_minutes'].sum()\n",
    "fairly_active_mins = df['fairly_active_minutes'].sum()\n",
    "lightly_active_mins = df['lightly_active_minutes'].sum()\n",
    "sedentary_mins = df['sedentary_minutes'].sum()\n",
    "\n",
    "colors = ['peachpuff', 'thistle', 'lightcoral', 'mediumturquoise']\n",
    "\n",
    "slices = [very_active_mins,fairly_active_mins,lightly_active_mins,sedentary_mins]\n",
    "labels = ['Very Active', 'Fairly Active', 'Lightly Active', 'Sedentary']\n",
    "explode = [0,0,0,0.2] # Explode only the 'Sedentary' slice\n",
    "\n",
    "plt.figure(figsize=(8, 8))\n",
    "plt.pie(slices, labels=labels, colors=colors, explode=explode, autopct='%1.1f%%', shadow=True, startangle=140)\n",
    "\n",
    "# Adding title\n",
    "plt.title('Percentage of Activity Level in Minutes')\n",
    "\n",
    "# Display the plot\n",
    "plt.tight_layout()\n",
    "plt.show()"
   ]
  },
  {
   "cell_type": "markdown",
   "id": "1d7db94a",
   "metadata": {
    "papermill": {
     "duration": null,
     "end_time": null,
     "exception": null,
     "start_time": null,
     "status": "pending"
    },
    "tags": []
   },
   "source": [
    "81% of the time participants are being sedentary and only 1.7% of time participants are being very active. The device could be tracking the activity during the night (while participants sleep) and makes it not fair to target some participants as \"lazy.\""
   ]
  },
  {
   "cell_type": "code",
   "execution_count": null,
   "id": "47789f38",
   "metadata": {
    "execution": {
     "iopub.execute_input": "2024-07-12T02:24:49.440093Z",
     "iopub.status.busy": "2024-07-12T02:24:49.439317Z",
     "iopub.status.idle": "2024-07-12T02:24:50.313787Z",
     "shell.execute_reply": "2024-07-12T02:24:50.312647Z",
     "shell.execute_reply.started": "2024-07-12T02:24:49.440060Z"
    },
    "papermill": {
     "duration": null,
     "end_time": null,
     "exception": null,
     "start_time": null,
     "status": "pending"
    },
    "tags": []
   },
   "outputs": [],
   "source": [
    "# Correlation between activity level in minutes and calories\n",
    "\n",
    "n_day_of_week = [0,1,2,3,4,5,6]\n",
    "\n",
    "fig, axes = plt.subplots(nrows=2, ncols=2, figsize=(8, 9), dpi=70)\n",
    "\n",
    "sns.scatterplot(data=df, x='calories', y='sedentary_minutes', hue='activity_level', ax=axes[0, 0], legend=False)\n",
    "sns.scatterplot(data=df, x='calories', y='lightly_active_minutes', hue='activity_level', ax=axes[0, 1], legend=False)\n",
    "sns.scatterplot(data=df, x='calories', y='fairly_active_minutes', hue='activity_level', ax=axes[1, 0], legend=False)\n",
    "sns.scatterplot(data=df, x='calories', y='very_active_minutes', hue='activity_level', ax=axes[1, 1], legend=True)\n",
    "\n",
    "plt.legend(title = 'Activity Level', fontsize = 16, title_fontsize = 18, bbox_to_anchor = (1.9, 1.4), frameon=True, scatterpoints=1)\n",
    "\n",
    "fig.suptitle('Correlation Between Activity Level in Minutes and Calories',x=0.5,y=0.92,fontsize=24)\n",
    "plt.show()"
   ]
  }
 ],
 "metadata": {
  "kaggle": {
   "accelerator": "none",
   "dataSources": [
    {
     "datasetId": 1041311,
     "sourceId": 7746251,
     "sourceType": "datasetVersion"
    }
   ],
   "dockerImageVersionId": 30746,
   "isGpuEnabled": false,
   "isInternetEnabled": false,
   "language": "python",
   "sourceType": "notebook"
  },
  "kernelspec": {
   "display_name": "Python 3",
   "language": "python",
   "name": "python3"
  },
  "language_info": {
   "codemirror_mode": {
    "name": "ipython",
    "version": 3
   },
   "file_extension": ".py",
   "mimetype": "text/x-python",
   "name": "python",
   "nbconvert_exporter": "python",
   "pygments_lexer": "ipython3",
   "version": "3.10.13"
  },
  "papermill": {
   "default_parameters": {},
   "duration": 10.280011,
   "end_time": "2024-07-12T02:31:49.953346",
   "environment_variables": {},
   "exception": true,
   "input_path": "__notebook__.ipynb",
   "output_path": "__notebook__.ipynb",
   "parameters": {},
   "start_time": "2024-07-12T02:31:39.673335",
   "version": "2.5.0"
  }
 },
 "nbformat": 4,
 "nbformat_minor": 5
}
